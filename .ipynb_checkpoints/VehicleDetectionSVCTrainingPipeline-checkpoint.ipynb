{
 "cells": [
  {
   "cell_type": "code",
   "execution_count": 1,
   "metadata": {},
   "outputs": [],
   "source": [
    "import pickle\n",
    "import os\n",
    "import glob\n",
    "import numpy as np\n",
    "import matplotlib.image as mpimg\n",
    "import matplotlib.pyplot as plt\n",
    "import matplotlib.gridspec as gridspec\n",
    "import cv2\n",
    "%matplotlib inline"
   ]
  },
  {
   "cell_type": "code",
   "execution_count": 2,
   "metadata": {},
   "outputs": [],
   "source": [
    "from sklearn.svm import LinearSVC\n",
    "from sklearn.preprocessing import StandardScaler\n",
    "from skimage.feature import hog\n",
    "from sklearn.model_selection import train_test_split"
   ]
  },
  {
   "cell_type": "code",
   "execution_count": 3,
   "metadata": {},
   "outputs": [],
   "source": [
    "def spatial_bin(image, new_size=(32,32)):\n",
    "    features = cv2.resize(image, new_size).ravel()\n",
    "    return features"
   ]
  },
  {
   "cell_type": "code",
   "execution_count": 4,
   "metadata": {},
   "outputs": [],
   "source": [
    "def color_hist(img, nbins=32, bins_range=(0, 256), hist_channels='ALL', vis=False):\n",
    "    # Compute the histogram of the color channels separately\n",
    "    channel1_hist = np.histogram(img[:,:,0], bins=nbins, range=bins_range)\n",
    "    channel2_hist = np.histogram(img[:,:,1], bins=nbins, range=bins_range)\n",
    "    channel3_hist = np.histogram(img[:,:,2], bins=nbins, range=bins_range)\n",
    "    \n",
    "    if vis == True:\n",
    "        # Generate bin centers for plotting\n",
    "        bin_edges = channel1_hist[1]\n",
    "        bin_centers = (bin_edges[1:] + bin_edges[0:len(bin_edges)-1])/2\n",
    "        # Concatenate the histograms into a single feature vector\n",
    "        hist_features = np.concatenate((channel1_hist[0], channel2_hist[0], channel3_hist[0]))\n",
    "        return channel1_hist, channel2_hist, channel3_hist, bin_centers, hist_features\n",
    "    else:\n",
    "        # Return color histogram features of the specified amount of channels\n",
    "        if hist_channels == 1:\n",
    "            hist_features = channel1_hist[0] \n",
    "        elif hist_channels == 2:\n",
    "            hist_features = np.concatenate((channel1_hist[0], channel2_hist[0]))\n",
    "        elif hist_channels == \"ALL\":\n",
    "            hist_features = np.concatenate((channel1_hist[0], channel2_hist[0], channel3_hist[0])) \n",
    "        return hist_features"
   ]
  },
  {
   "cell_type": "code",
   "execution_count": 5,
   "metadata": {},
   "outputs": [],
   "source": [
    "def get_hog_features(img, orient, pix_per_cell, cell_per_block, vis=False, feature_vec=True):\n",
    "    # Call with two outputs if vis==True\n",
    "    if vis == True:\n",
    "        features, hog_image = hog(img, orientations=orient, pixels_per_cell=(pix_per_cell, pix_per_cell),\n",
    "                                  cells_per_block=(cell_per_block, cell_per_block), transform_sqrt=False, \n",
    "                                  visualise=vis, feature_vector=feature_vec)\n",
    "        return features, hog_image\n",
    "    # Otherwise call with one output\n",
    "    else:      \n",
    "        features = hog(img, orientations=orient, pixels_per_cell=(pix_per_cell, pix_per_cell),\n",
    "                       cells_per_block=(cell_per_block, cell_per_block), transform_sqrt=False, \n",
    "                       visualise=vis, feature_vector=feature_vec)\n",
    "        return features"
   ]
  },
  {
   "cell_type": "code",
   "execution_count": 6,
   "metadata": {},
   "outputs": [],
   "source": [
    "def extract_image_features(image, cspace='RGB', spatial_size=(32,32), hist_bins=32, hist_range=(0,256), \n",
    "                     hist_channels=2, orient=9, pix_per_cell=8, cell_per_block=2, hog_channel=0):\n",
    "    # Apply color conversion if other than 'RGB'\n",
    "    if cspace != 'RGB':\n",
    "        cv2_space = eval(\"cv2.COLOR_RGB2\" + cspace)\n",
    "        feature_image = cv2.cvtColor(image, cv2_space)\n",
    "    else: feature_image = np.copy(image)      \n",
    "\n",
    "    # Apply spatial_bin() to get spatial color features\n",
    "    spatial_features = spatial_bin(feature_image, new_size=spatial_size)\n",
    "        \n",
    "    # Apply color_hist() to get histogram features\n",
    "    hist_features = color_hist(feature_image, nbins=hist_bins, bins_range=hist_range, hist_channels=hist_channels)\n",
    "    \n",
    "    # Apply get_hog_features() to obtain HOG features\n",
    "    if hog_channel == 'ALL':\n",
    "        hog_features = []\n",
    "        for channel in range(feature_image.shape[2]):\n",
    "            hog_features.append(get_hog_features(feature_image[:,:,channel], orient, \n",
    "                        pix_per_cell, cell_per_block, vis=False, feature_vec=True))\n",
    "        hog_features = np.ravel(hog_features)        \n",
    "    else:\n",
    "        hog_features = get_hog_features(feature_image[:,:,hog_channel], orient, \n",
    "                        pix_per_cell, cell_per_block, vis=False, feature_vec=True)\n",
    "    \n",
    "    # Concatanate all features into a single vector\n",
    "    features = np.concatenate((spatial_features, hist_features, hog_features))\n",
    "    return features"
   ]
  },
  {
   "cell_type": "code",
   "execution_count": 7,
   "metadata": {},
   "outputs": [],
   "source": [
    "def extract_features_from_files(image_files, cspace='RGB', spatial_size=(32,32), hist_bins=32, hist_range=(0, 256), \n",
    "                     hist_channels=3, orient=9, pix_per_cell=8, cell_per_block=2, hog_channel=0):\n",
    "    \"\"\"pydoc\"\"\"\n",
    "    features = []\n",
    "    # Extract features from each image file and append to a feature list\n",
    "    for file in image_files:\n",
    "        #image = read_image(file)\n",
    "        image = mpimg.imread(file)\n",
    "        image_features = extract_image_features(image, cspace, spatial_size, hist_bins, hist_range, \n",
    "                     hist_channels, orient, pix_per_cell, cell_per_block, hog_channel)\n",
    "        features.append(image_features)\n",
    "    return features"
   ]
  },
  {
   "cell_type": "code",
   "execution_count": 8,
   "metadata": {},
   "outputs": [],
   "source": [
    "### training Pipeline"
   ]
  },
  {
   "cell_type": "code",
   "execution_count": 9,
   "metadata": {},
   "outputs": [],
   "source": [
    "# specify location to load training data from\n",
    "images = glob.glob('./data/*/*/*.png')\n",
    "# create 2 arrays to store data\n",
    "cars = []\n",
    "notcars = []\n",
    "\n",
    "# images are divided up into vehicles and non-vehicles\n",
    "for image in images:\n",
    "    # if images location has non-vehicles then append to notcars array\n",
    "    if 'non-vehicles' in image:\n",
    "        notcars.append(image)\n",
    "    else:\n",
    "        cars.append(image)"
   ]
  },
  {
   "cell_type": "code",
   "execution_count": 10,
   "metadata": {},
   "outputs": [],
   "source": [
    "# Feature Extraction Parameters\n",
    "spatial = 32           # 32x32\n",
    "hist_bins = 32\n",
    "hist_range = (0,256)\n",
    "hist_channels= 'ALL'   # Can be 1, 2, or \"ALL\"\n",
    "color_space = 'YCrCb'  # Can be RGB, HSV, LUV, HLS, YUV, YCrCb\n",
    "orient = 9\n",
    "pix_per_cell = 8       # 8x8\n",
    "cell_per_block = 2     # 2x2\n",
    "hog_channel = 'ALL'    # Can be 0, 1, 2, or \"ALL\""
   ]
  },
  {
   "cell_type": "code",
   "execution_count": 11,
   "metadata": {},
   "outputs": [
    {
     "name": "stderr",
     "output_type": "stream",
     "text": [
      "/anaconda3/lib/python3.6/site-packages/skimage/feature/_hog.py:119: skimage_deprecation: Default value of `block_norm`==`L1` is deprecated and will be changed to `L2-Hys` in v0.15\n",
      "  'be changed to `L2-Hys` in v0.15', skimage_deprecation)\n"
     ]
    }
   ],
   "source": [
    "vehicle_features = extract_features_from_files(cars, color_space,(spatial, spatial), hist_bins, hist_range, \n",
    "                                               hist_channels, orient, pix_per_cell, cell_per_block, hog_channel)\n",
    "\n",
    "non_vehicle_features = extract_features_from_files(notcars, color_space,(spatial, spatial), hist_bins,\n",
    "                                        hist_range, hist_channels, orient, pix_per_cell, cell_per_block, hog_channel)"
   ]
  },
  {
   "cell_type": "code",
   "execution_count": 12,
   "metadata": {},
   "outputs": [
    {
     "data": {
      "text/plain": [
       "(17760, 8460)"
      ]
     },
     "execution_count": 12,
     "metadata": {},
     "output_type": "execute_result"
    }
   ],
   "source": [
    "np.vstack((vehicle_features, non_vehicle_features)).shape"
   ]
  },
  {
   "cell_type": "code",
   "execution_count": 13,
   "metadata": {},
   "outputs": [],
   "source": [
    "# Stack features\n",
    "X = np.vstack((vehicle_features, non_vehicle_features)).astype(np.float64)\n",
    "\n",
    "# Normalize features - Scale Features\n",
    "X_scaler = StandardScaler().fit(X)\n",
    "scaled_X = X_scaler.transform(X)\n",
    "\n",
    "# Create labels\n",
    "Y = np.hstack((np.ones(len(vehicle_features)), np.zeros(len(non_vehicle_features))))\n",
    "               \n",
    "# Shuffle and train-test split\n",
    "rand_state = np.random.randint(0, 100)\n",
    "X_train, X_test, y_train, y_test = train_test_split(scaled_X, Y, test_size=0.2, random_state=rand_state)"
   ]
  },
  {
   "cell_type": "code",
   "execution_count": 14,
   "metadata": {},
   "outputs": [
    {
     "name": "stdout",
     "output_type": "stream",
     "text": [
      "Test Accuracy of SVC =  0.9898648648648649\n"
     ]
    }
   ],
   "source": [
    "# Create classifier\n",
    "svc = LinearSVC()\n",
    "\n",
    "# Train SVM\n",
    "svc.fit(X_train, y_train)\n",
    "\n",
    "# Print scores i.e classification performance\n",
    "print('Test Accuracy of SVC = ', svc.score(X_test, y_test))\n",
    "\n",
    "\n",
    "# Save model in a pickle file \n",
    "svm_pickle = {}\n",
    "svm_pickle[\"svc\"] = svc\n",
    "svm_pickle[\"X_scaler\"] = X_scaler\n",
    "#svm_pickle[\"orient\"] = orient\n",
    "#svm_pickle[\"pix_per_cell\"] = pix_per_cell\n",
    "#svm_pickle[\"cell_per_block\"] = cell_per_block\n",
    "#svm_pickle[\"spatial_size\"] = spatial\n",
    "#svm_pickle[\"hist_bins\"] = hist_bins\n",
    "\n",
    "pickle.dump(svm_pickle, open(\"svm_pickle.p\", \"wb\" ))"
   ]
  },
  {
   "cell_type": "code",
   "execution_count": null,
   "metadata": {},
   "outputs": [],
   "source": []
  },
  {
   "cell_type": "code",
   "execution_count": 15,
   "metadata": {},
   "outputs": [],
   "source": [
    "def draw_boxes(img, bboxes, color=(0, 0, 255), thick=6):\n",
    "    # Make a copy of the image\n",
    "    imcopy = np.copy(img)\n",
    "    # Iterate through the bounding boxes\n",
    "    for bbox in bboxes:\n",
    "        # Draw a rectangle given bbox coordinates\n",
    "        cv2.rectangle(imcopy, bbox[0], bbox[1], color, thick)\n",
    "    # Return the image copy with boxes drawn\n",
    "    return imcopy"
   ]
  },
  {
   "cell_type": "code",
   "execution_count": 16,
   "metadata": {},
   "outputs": [],
   "source": [
    "def slide_window(img, x_start_stop=[None, None], y_start_stop=[None, None], \n",
    "                    xy_window=(64, 64), xy_overlap=(0.5, 0.5)):\n",
    "    # If x and/or y start/stop positions not defined, set to image size\n",
    "    if x_start_stop[0] == None:\n",
    "        x_start_stop[0] = 0\n",
    "    if x_start_stop[1] == None:\n",
    "        x_start_stop[1] = img.shape[1]\n",
    "    if y_start_stop[0] == None:\n",
    "        y_start_stop[0] = 0\n",
    "    if y_start_stop[1] == None:\n",
    "        y_start_stop[1] = img.shape[0]\n",
    "    \n",
    "    # Compute the span of the region to be searched    \n",
    "    xspan = x_start_stop[1] - x_start_stop[0]\n",
    "    yspan = y_start_stop[1] - y_start_stop[0]\n",
    "    \n",
    "    # Compute the number of pixels per step in x/y\n",
    "    nx_pix_per_step = np.int(xy_window[0]*(1 - xy_overlap[0]))\n",
    "    ny_pix_per_step = np.int(xy_window[1]*(1 - xy_overlap[1]))\n",
    "    \n",
    "    # Compute the number of windows in x/y\n",
    "    nx_buffer = np.int(xy_window[0]*(xy_overlap[0]))\n",
    "    ny_buffer = np.int(xy_window[1]*(xy_overlap[1]))\n",
    "    nx_windows = np.int((xspan-nx_buffer)/nx_pix_per_step) \n",
    "    ny_windows = np.int((yspan-ny_buffer)/ny_pix_per_step) \n",
    "    \n",
    "    # Initialize a list to append window positions to\n",
    "    # Loop through finding x and y window positions\n",
    "    window_list = []\n",
    "    for ys in range(ny_windows):\n",
    "        for xs in range(nx_windows):\n",
    "            # Calculate window position\n",
    "            startx = xs*nx_pix_per_step + x_start_stop[0]\n",
    "            endx = startx + xy_window[0]\n",
    "            starty = ys*ny_pix_per_step + y_start_stop[0]\n",
    "            endy = starty + xy_window[1]\n",
    "            # Append window position to list\n",
    "            window_list.append(((startx, starty), (endx, endy)))\n",
    "    \n",
    "    # Return the list of windows\n",
    "    return window_list"
   ]
  },
  {
   "cell_type": "code",
   "execution_count": 17,
   "metadata": {},
   "outputs": [],
   "source": [
    "def search_for_cars(image, window_boxes, svc, scaler, cspace='RGB', spatial_size=(32, 32), hist_bins=32, \n",
    "                   hist_range=(0, 256), orient=9, pix_per_cell=8, cell_per_block=2, hog_channel='ALL'):\n",
    "\n",
    "    # Extract all window boxes where a vehicle was detected\n",
    "    hot_windows = []\n",
    "    for box in window_boxes: \n",
    "        \n",
    "        # Extract image patch from original image and resize to 64 x 64\n",
    "        # Images used to train the model were all of size 64 by 64.\n",
    "        # It is imperative to extract the same amount of features so that the classifier works correctly\n",
    "        image_patch = cv2.resize(image[box[0][1]:box[1][1], box[0][0]:box[1][0]], (64, 64))      \n",
    "        \n",
    "        # Extract features from current image in frame\n",
    "        features = extract_image_features(image_patch, cspace, spatial_size, hist_bins, hist_range, \n",
    "                     hist_channels, orient, pix_per_cell, cell_per_block, hog_channel)\n",
    "        \n",
    "        # Scale extracted features to be fed to the classifier\n",
    "        test_features = scaler.transform(np.array(features).reshape(1, -1))\n",
    "        \n",
    "        #Predict using your classifier\n",
    "        prediction = svc.predict(test_features)\n",
    "        # If positive (prediction == 1) then save the window\n",
    "        if prediction == 1:\n",
    "            hot_windows.append(box)\n",
    "\n",
    "    return hot_windows"
   ]
  },
  {
   "cell_type": "code",
   "execution_count": null,
   "metadata": {},
   "outputs": [],
   "source": [
    "spatial_size = (32, 32) \n",
    "\n",
    "# Slide Window Parameters\n",
    "x_start_stop = [None, None]\n",
    "y_start_stop = [380, 625] \n",
    "xy_window = (80, 80) \n",
    "xy_overlap=(0.75, 0.75)\n",
    "\n",
    "# Load test images\n",
    "PATH = \"test_images/\"\n",
    "test_images = os.listdir(\"test_images/\")[1:]\n",
    "\n",
    "# Grid for plotting\n",
    "gs = gridspec.GridSpec(3,2)\n",
    "plt.figure(figsize=(12,8)).suptitle(\"Single Scale Car Search\")\n",
    "\n",
    "# Car Search\n",
    "for index, image_file in zip(range(0,6), test_images):\n",
    "    #test_image = read_image(PATH + image_file)\n",
    "    test_image = mpimg.imread(PATH + image_file)\n",
    "    \n",
    "    # required if search image is jpeg and training data was png\n",
    "    test_image = test_image.astype(np.float32)/255\n",
    "    \n",
    "    # Extract Slide Window boxes\n",
    "    window_boxes = slide_window(test_image, x_start_stop, y_start_stop, xy_window, xy_overlap)\n",
    "    \n",
    "    # Find hot Windows\n",
    "    hot_windows = search_for_cars(test_image, window_boxes, svc, X_scaler, color_space, spatial_size, hist_bins, \n",
    "                   hist_range, orient, pix_per_cell, cell_per_block, hog_channel)\n",
    "    # Plot Results\n",
    "    plt.subplot(gs[index])\n",
    "    plt.axis('off')\n",
    "    plt.imshow(draw_boxes(test_image, hot_windows))"
   ]
  },
  {
   "cell_type": "code",
   "execution_count": null,
   "metadata": {},
   "outputs": [],
   "source": []
  },
  {
   "cell_type": "code",
   "execution_count": null,
   "metadata": {},
   "outputs": [],
   "source": []
  }
 ],
 "metadata": {
  "kernelspec": {
   "display_name": "Python 3",
   "language": "python",
   "name": "python3"
  },
  "language_info": {
   "codemirror_mode": {
    "name": "ipython",
    "version": 3
   },
   "file_extension": ".py",
   "mimetype": "text/x-python",
   "name": "python",
   "nbconvert_exporter": "python",
   "pygments_lexer": "ipython3",
   "version": "3.6.5"
  }
 },
 "nbformat": 4,
 "nbformat_minor": 2
}
